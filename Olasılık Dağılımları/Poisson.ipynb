{
 "cells": [
  {
   "cell_type": "markdown",
   "id": "900e97cd-bb55-4bbd-abeb-b1716c26f044",
   "metadata": {},
   "source": [
    "# Poisson Dağılımı "
   ]
  },
  {
   "cell_type": "markdown",
   "id": "410fc6a5-b57a-40a5-877e-f900d1ac203d",
   "metadata": {},
   "source": [
    "Bu dağılım özel durum sayılabilen olaylarda kullanılır. Bu dağılımın kullanılabilmesi için;\n",
    "\n",
    " **1** n > 50\n",
    "\n",
    " **2** n.p < 5\n",
    "\n",
    " durumunu sağlaması gerekmektedir."
   ]
  },
  {
   "cell_type": "markdown",
   "id": "7322814b-bb89-468e-9f73-66a86e8998a8",
   "metadata": {},
   "source": [
    "${\\displaystyle f(x,\\lambda )={\\frac {\\lambda ^{x}e^{-\\lambda }}{x!}}\\,\\!}$,  x = 0,1,2,...,n\n",
    "\n",
    "\n",
    "Beklenen Değer : λ\n",
    "\n",
    "Varyans : λ"
   ]
  },
  {
   "cell_type": "code",
   "execution_count": 32,
   "id": "54b7dc77-956b-44be-a09e-d43c50e0a328",
   "metadata": {},
   "outputs": [],
   "source": [
    "from scipy.stats import poisson"
   ]
  },
  {
   "cell_type": "markdown",
   "id": "55d01f89-d4e5-42fe-a224-6acc52567885",
   "metadata": {},
   "source": [
    "## Örnek 1 "
   ]
  },
  {
   "cell_type": "markdown",
   "id": "9a25bd37-db56-40bf-b2ac-4a519256734f",
   "metadata": {},
   "source": [
    "Bir şehirde ender rastlanan bir hastalıktan, bir hafta içinde ortalama ölen kişi\n",
    "sayısı 4’ dür. Belli bir hafta içinde bu hastalıktan,\n",
    "\n",
    "a) Hiç kimsenin ölmemesi\n",
    "\n",
    "b) En az 2 kişinin ölmesi\n",
    "\n",
    "c) 3 kişinin ölmesi\n",
    "\n",
    "olasılıklarını hesaplayınız"
   ]
  },
  {
   "cell_type": "code",
   "execution_count": 5,
   "id": "987473d7-1a3a-46e2-899b-a7f7bbf38edd",
   "metadata": {},
   "outputs": [],
   "source": [
    "rv = poisson(mu = 4)"
   ]
  },
  {
   "cell_type": "code",
   "execution_count": 6,
   "id": "5289ea40-58b1-4245-b0f7-45fde1e09f90",
   "metadata": {},
   "outputs": [
    {
     "data": {
      "text/plain": [
       "0.01831563888873418"
      ]
     },
     "execution_count": 6,
     "metadata": {},
     "output_type": "execute_result"
    }
   ],
   "source": [
    "rv.pmf(0)"
   ]
  },
  {
   "cell_type": "code",
   "execution_count": 22,
   "id": "1b347359-c011-4a82-a427-b71193df5bea",
   "metadata": {},
   "outputs": [
    {
     "data": {
      "text/plain": [
       "0.9084218055563291"
      ]
     },
     "execution_count": 22,
     "metadata": {},
     "output_type": "execute_result"
    }
   ],
   "source": [
    "1 - rv.cdf(1)"
   ]
  },
  {
   "cell_type": "code",
   "execution_count": 23,
   "id": "a8128bd2-6185-40e2-8594-43165e26dbdd",
   "metadata": {},
   "outputs": [
    {
     "data": {
      "text/plain": [
       "0.19536681481316454"
      ]
     },
     "execution_count": 23,
     "metadata": {},
     "output_type": "execute_result"
    }
   ],
   "source": [
    "rv.pmf(3)"
   ]
  },
  {
   "cell_type": "markdown",
   "id": "1af30adc-790a-49fc-8190-1e3fb8356c16",
   "metadata": {},
   "source": [
    "## Örnek 2"
   ]
  },
  {
   "cell_type": "markdown",
   "id": "2b957dc7-972f-4ff9-aa82-5a2e3c3d4102",
   "metadata": {},
   "source": [
    "Acil servise saat 14:00\n",
    "-15:00 arasında her 15 dakikada ortalama 3 ambulans\n",
    "gelmektedir. Saat 14:00\n",
    "-15:00 arasında herhangi bir 15 dakika içinde acil servise,\n",
    "\n",
    "a) Hiç araç gelmemesi\n",
    "\n",
    "b) En az 1 araç gelmesi\n",
    "\n",
    "c) 4 araç gelmesi\n",
    "\n",
    "d) 5 araç gelmesi\n",
    "\n",
    "e) En çok 2 araç gelmesi\n",
    "\n",
    "olasılıklarını bulunuz"
   ]
  },
  {
   "cell_type": "code",
   "execution_count": 26,
   "id": "f1f9c645-8ab4-4a0d-aabb-a449589385be",
   "metadata": {},
   "outputs": [],
   "source": [
    "rv = poisson(mu = 3)"
   ]
  },
  {
   "cell_type": "code",
   "execution_count": 27,
   "id": "035aa83c-b925-4033-8791-904a4ca8618c",
   "metadata": {},
   "outputs": [
    {
     "data": {
      "text/plain": [
       "0.049787068367863944"
      ]
     },
     "execution_count": 27,
     "metadata": {},
     "output_type": "execute_result"
    }
   ],
   "source": [
    "rv.pmf(0)"
   ]
  },
  {
   "cell_type": "code",
   "execution_count": 28,
   "id": "d1dcab83-d110-4abe-8529-3f5e0a09e4d8",
   "metadata": {},
   "outputs": [
    {
     "data": {
      "text/plain": [
       "0.950212931632136"
      ]
     },
     "execution_count": 28,
     "metadata": {},
     "output_type": "execute_result"
    }
   ],
   "source": [
    "1 - rv.pmf(0)"
   ]
  },
  {
   "cell_type": "code",
   "execution_count": 29,
   "id": "2c25cfb6-1d82-403a-9ffd-54f5fc093845",
   "metadata": {},
   "outputs": [
    {
     "data": {
      "text/plain": [
       "0.16803135574154085"
      ]
     },
     "execution_count": 29,
     "metadata": {},
     "output_type": "execute_result"
    }
   ],
   "source": [
    "rv.pmf(4)"
   ]
  },
  {
   "cell_type": "code",
   "execution_count": 30,
   "id": "c404e263-92e2-45f9-a7d1-003e951083b1",
   "metadata": {},
   "outputs": [
    {
     "data": {
      "text/plain": [
       "0.10081881344492458"
      ]
     },
     "execution_count": 30,
     "metadata": {},
     "output_type": "execute_result"
    }
   ],
   "source": [
    "rv.pmf(5)"
   ]
  },
  {
   "cell_type": "code",
   "execution_count": 31,
   "id": "19123be5-0a9e-41d7-8fe6-a8e108f0c7bd",
   "metadata": {},
   "outputs": [
    {
     "data": {
      "text/plain": [
       "0.42319008112684364"
      ]
     },
     "execution_count": 31,
     "metadata": {},
     "output_type": "execute_result"
    }
   ],
   "source": [
    "rv.cdf(2)"
   ]
  },
  {
   "cell_type": "markdown",
   "id": "e87f5f13-5cfb-41c9-97a3-a074ce088914",
   "metadata": {},
   "source": [
    "### Örnek 3"
   ]
  },
  {
   "cell_type": "markdown",
   "id": "cbaa3aef-6f8e-4e8f-85a8-ee6aa8e8b10c",
   "metadata": {},
   "source": [
    "Bir ülkedeki her 100000 ölüm vakasında ortalama 3 tanesi gıda\n",
    "zehirlenmesinden ortaya çıkmaktadır. Belirli bir zaman dilimindeki 200000 ölüm vakasında\n",
    "gıda zehirlenmesinden dolayı,\n",
    "\n",
    "a) Sıfır ölüm vakasına\n",
    "\n",
    "b) 6 ölüm vakasına\n",
    "\n",
    "c) 6,7 ya da 8 ölüm vakasına,\n",
    "\n",
    "rastlama olasılıklarını hesaplayınız."
   ]
  },
  {
   "cell_type": "code",
   "execution_count": 33,
   "id": "761968ea-00a3-46cc-977f-2712ccd3fec1",
   "metadata": {},
   "outputs": [],
   "source": [
    "rv = poisson(mu = 6)"
   ]
  },
  {
   "cell_type": "code",
   "execution_count": 35,
   "id": "82b12bd9-e554-4e5c-80fa-07e725882f86",
   "metadata": {},
   "outputs": [
    {
     "data": {
      "text/plain": [
       "0.0024787521766663585"
      ]
     },
     "execution_count": 35,
     "metadata": {},
     "output_type": "execute_result"
    }
   ],
   "source": [
    "rv.pmf(0)"
   ]
  },
  {
   "cell_type": "code",
   "execution_count": 36,
   "id": "8f0960ef-6ec3-41d1-b749-3e6ca8e8bbbd",
   "metadata": {},
   "outputs": [
    {
     "data": {
      "text/plain": [
       "0.1606231410479801"
      ]
     },
     "execution_count": 36,
     "metadata": {},
     "output_type": "execute_result"
    }
   ],
   "source": [
    "rv.pmf(6)"
   ]
  },
  {
   "cell_type": "code",
   "execution_count": 37,
   "id": "8c098c96-8ce6-4eb9-90dc-412fccc29bca",
   "metadata": {},
   "outputs": [
    {
     "data": {
      "text/plain": [
       "0.4015578526199502"
      ]
     },
     "execution_count": 37,
     "metadata": {},
     "output_type": "execute_result"
    }
   ],
   "source": [
    "rv.cdf(8) - rv.cdf(5)"
   ]
  }
 ],
 "metadata": {
  "kernelspec": {
   "display_name": "Python 3 (ipykernel)",
   "language": "python",
   "name": "python3"
  },
  "language_info": {
   "codemirror_mode": {
    "name": "ipython",
    "version": 3
   },
   "file_extension": ".py",
   "mimetype": "text/x-python",
   "name": "python",
   "nbconvert_exporter": "python",
   "pygments_lexer": "ipython3",
   "version": "3.10.9"
  }
 },
 "nbformat": 4,
 "nbformat_minor": 5
}
