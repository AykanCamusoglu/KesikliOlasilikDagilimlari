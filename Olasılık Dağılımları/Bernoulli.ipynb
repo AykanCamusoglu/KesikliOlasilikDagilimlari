{
 "cells": [
  {
   "cell_type": "markdown",
   "id": "ed480293-8acb-412e-bdaa-47795312ab4c",
   "metadata": {},
   "source": [
    "## Bernaulli Dağılımı"
   ]
  },
  {
   "cell_type": "markdown",
   "id": "6ca846b7-5d6e-454b-be73-5bbf3e7bc228",
   "metadata": {},
   "source": [
    "Formül :    $ f_{(k ; p)} = p^{k}(1-p)^{1-k} $\n",
    "\n",
    "Beklenen Değer (E(X)) : p\n",
    "\n",
    "Var(X) : p(1-p)"
   ]
  },
  {
   "cell_type": "code",
   "execution_count": 11,
   "id": "e0f55f75-6904-4da1-9db3-96e72f7d5678",
   "metadata": {},
   "outputs": [],
   "source": [
    "from scipy.stats import bernoulli"
   ]
  },
  {
   "cell_type": "code",
   "execution_count": 12,
   "id": "aab1205d-680b-4a4f-8dae-11502f47a9df",
   "metadata": {},
   "outputs": [],
   "source": [
    "p = 0.6"
   ]
  },
  {
   "cell_type": "code",
   "execution_count": 13,
   "id": "f37e0bfe-5d60-486b-af29-3c5f255a7f2e",
   "metadata": {},
   "outputs": [],
   "source": [
    "rv = bernoulli(p)"
   ]
  },
  {
   "cell_type": "code",
   "execution_count": 22,
   "id": "bb6dfc7a-bcb1-43ff-933a-baeaaac46ed4",
   "metadata": {},
   "outputs": [
    {
     "data": {
      "text/plain": [
       "0.6"
      ]
     },
     "execution_count": 22,
     "metadata": {},
     "output_type": "execute_result"
    }
   ],
   "source": [
    "rv.pmf(k = 1)"
   ]
  },
  {
   "cell_type": "code",
   "execution_count": null,
   "id": "3fa61b84-a238-45da-b3b1-76aa52596d32",
   "metadata": {},
   "outputs": [],
   "source": []
  }
 ],
 "metadata": {
  "kernelspec": {
   "display_name": "Python 3 (ipykernel)",
   "language": "python",
   "name": "python3"
  },
  "language_info": {
   "codemirror_mode": {
    "name": "ipython",
    "version": 3
   },
   "file_extension": ".py",
   "mimetype": "text/x-python",
   "name": "python",
   "nbconvert_exporter": "python",
   "pygments_lexer": "ipython3",
   "version": "3.10.9"
  }
 },
 "nbformat": 4,
 "nbformat_minor": 5
}
