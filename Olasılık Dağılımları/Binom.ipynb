{
 "cells": [
  {
   "cell_type": "markdown",
   "id": "f0b7f428-4f66-48de-8852-acd9d3802ed1",
   "metadata": {
    "tags": []
   },
   "source": [
    "# Binom Dağılımı"
   ]
  },
  {
   "cell_type": "markdown",
   "id": "1f676ea8-24f6-4052-9460-5bc35da9f22b",
   "metadata": {},
   "source": [
    "$ f_{(k;n;p)} = {n \\choose k}p^k(1-p)^{1-k} $\n",
    "\n",
    "$ E[X] = np $\n",
    "\n",
    "$ VAR[E] = n.p.(1-p) $"
   ]
  },
  {
   "cell_type": "code",
   "execution_count": 1,
   "id": "006bf90b-5e35-4e3f-86fd-fabc60a8de12",
   "metadata": {},
   "outputs": [],
   "source": [
    "from scipy.stats import binom"
   ]
  },
  {
   "cell_type": "markdown",
   "id": "6a80ed8d-3aec-40fa-8695-ae25ab9707b2",
   "metadata": {
    "jp-MarkdownHeadingCollapsed": true,
    "tags": []
   },
   "source": [
    "## Örnek 1"
   ]
  },
  {
   "cell_type": "markdown",
   "id": "635e9092-1832-4c93-be38-29c204753fbd",
   "metadata": {},
   "source": [
    "Bir kutuda bulunan 10 tabletten 5 tanesi aspirindir. Bu kutudan yerine koyarak 3\n",
    "tablet çekildiğinde 2 tanesinin aspirin olması olasılığı nedir?"
   ]
  },
  {
   "cell_type": "markdown",
   "id": "471667ee-d35e-4f02-96d3-740c119d606a",
   "metadata": {},
   "source": [
    "X : Çekilen tabletin aspirin olması\n",
    "\n",
    "p = 0.5 (5/10)\n",
    "\n",
    "b(n = 3 ; p = 0.5)"
   ]
  },
  {
   "cell_type": "code",
   "execution_count": 4,
   "id": "72eee6b3-8bc5-43e5-aecb-70a557e88936",
   "metadata": {},
   "outputs": [],
   "source": [
    "rv = binom(n = 3, p = 0.5)"
   ]
  },
  {
   "cell_type": "markdown",
   "id": "0a0e8561-4fea-4854-b68e-139ec682c95a",
   "metadata": {},
   "source": [
    "(P)ossibilty (M)ass (F)unction içine k değeri yazılıyor\n",
    "\n",
    "2 tanesinin aspirin olma olasılığını hesaplamak için k = 2'dir"
   ]
  },
  {
   "cell_type": "code",
   "execution_count": 7,
   "id": "ea0b339e-9572-48bb-9f05-041268594bc2",
   "metadata": {},
   "outputs": [
    {
     "data": {
      "text/plain": [
       "0.3750000000000001"
      ]
     },
     "execution_count": 7,
     "metadata": {},
     "output_type": "execute_result"
    }
   ],
   "source": [
    "rv.pmf(2)"
   ]
  },
  {
   "cell_type": "markdown",
   "id": "cff7bacd-9d71-4cad-84bb-9556857fa54d",
   "metadata": {},
   "source": [
    "## Örnek 2"
   ]
  },
  {
   "cell_type": "markdown",
   "id": "9e469e14-cf00-4c4a-a628-4b856205674d",
   "metadata": {},
   "source": [
    "İlaç üreten bir firma ürettiği ilaçları ambalajlayarak satışa sunmaktadır.\n",
    "Ambalajlanan ilaç paketlerinin %10’unun istenen standarda uymadığı bilinmektedir. Bu\n",
    "ambalajlanmış ilaç paketlerinden 5 tanesi yerine koyularak rasgele olarak seçildiğinde,\n",
    "\n",
    "\n",
    "a) Hepsinin de ambalajının istenilen standarda uygun olması olasılığı nedir?\n",
    "\n",
    "b) Sadece 2’sinin ambalajının istenilen standarda uygun olması olasılığı nedir?\n",
    "\n",
    "c) En az 4’ünün ambalajının istenilen standarda uygun olması olasılığı nedir?\n",
    "\n",
    "d) En fazla 2’sini ambalajının istenilen standarda uygun olması olasılığı nedir?\n",
    "\n",
    "e) Ambalajı istenilen standarda uygun olması beklenen ilaç paketi sayısı nedir?"
   ]
  },
  {
   "cell_type": "markdown",
   "id": "a41591dd-d24a-4bbf-ab71-0a5fd54cc060",
   "metadata": {},
   "source": [
    "p = 0.1"
   ]
  },
  {
   "cell_type": "code",
   "execution_count": 8,
   "id": "f9f6293f-9773-45a9-8f76-b5eb4252c8f7",
   "metadata": {},
   "outputs": [],
   "source": [
    "rv = binom(n = 5, p = 0.1)"
   ]
  },
  {
   "cell_type": "markdown",
   "id": "9865d5f0-3fe3-4db8-8509-208bef4f8f4d",
   "metadata": {
    "tags": []
   },
   "source": [
    "### a)"
   ]
  },
  {
   "cell_type": "code",
   "execution_count": 10,
   "id": "c4dec7f7-469b-4ae5-a0af-43acc1d7f666",
   "metadata": {},
   "outputs": [
    {
     "data": {
      "text/plain": [
       "0.5904900000000001"
      ]
     },
     "execution_count": 10,
     "metadata": {},
     "output_type": "execute_result"
    }
   ],
   "source": [
    "rv.pmf(0)"
   ]
  },
  {
   "cell_type": "markdown",
   "id": "8bd85119-1f65-4f02-9f15-319228d65984",
   "metadata": {
    "tags": []
   },
   "source": [
    "### b)"
   ]
  },
  {
   "cell_type": "code",
   "execution_count": 11,
   "id": "2be81d92-e5f6-408d-9774-576c8c6f2e17",
   "metadata": {},
   "outputs": [
    {
     "data": {
      "text/plain": [
       "0.0081"
      ]
     },
     "execution_count": 11,
     "metadata": {},
     "output_type": "execute_result"
    }
   ],
   "source": [
    "rv.pmf(3)"
   ]
  },
  {
   "cell_type": "markdown",
   "id": "d3a79e2f-867c-4d3e-8216-9634ec1f93e4",
   "metadata": {
    "tags": []
   },
   "source": [
    "### c)"
   ]
  },
  {
   "cell_type": "code",
   "execution_count": 12,
   "id": "b8ed2280-00fa-41fa-901e-efa5b964f4ce",
   "metadata": {},
   "outputs": [
    {
     "data": {
      "text/plain": [
       "0.91854"
      ]
     },
     "execution_count": 12,
     "metadata": {},
     "output_type": "execute_result"
    }
   ],
   "source": [
    "rv.pmf(1) + rv.pmf(0)"
   ]
  },
  {
   "cell_type": "markdown",
   "id": "2363511c-ddcd-4580-a1d8-90a333d6988c",
   "metadata": {},
   "source": [
    "**Cumulatif Distribution Function**"
   ]
  },
  {
   "cell_type": "markdown",
   "id": "d5d0ed01-4f02-4e84-93c4-5b5df35d2b17",
   "metadata": {},
   "source": [
    "Bu cdf metodu içerisine yazılan k değerine kadar kümülatif olarak hesaplama yapar."
   ]
  },
  {
   "cell_type": "code",
   "execution_count": 29,
   "id": "a20cecce-9205-45ae-aecb-234b147a76f4",
   "metadata": {},
   "outputs": [
    {
     "data": {
      "text/plain": [
       "0.91854"
      ]
     },
     "execution_count": 29,
     "metadata": {},
     "output_type": "execute_result"
    }
   ],
   "source": [
    "rv.cdf(1)"
   ]
  },
  {
   "cell_type": "markdown",
   "id": "cf2a45c2-1c61-41a5-bced-91cc726f6606",
   "metadata": {
    "tags": []
   },
   "source": [
    "### d)"
   ]
  },
  {
   "cell_type": "code",
   "execution_count": 14,
   "id": "2c436b79-edca-4702-bad2-7d831c6b2164",
   "metadata": {},
   "outputs": [
    {
     "data": {
      "text/plain": [
       "0.00856"
      ]
     },
     "execution_count": 14,
     "metadata": {},
     "output_type": "execute_result"
    }
   ],
   "source": [
    "rv.pmf(3) + rv.pmf(4) + rv.pmf(5) "
   ]
  },
  {
   "cell_type": "code",
   "execution_count": 30,
   "id": "84c30b98-f831-4499-ab84-171a90d6e390",
   "metadata": {},
   "outputs": [
    {
     "data": {
      "text/plain": [
       "0.008560000000000012"
      ]
     },
     "execution_count": 30,
     "metadata": {},
     "output_type": "execute_result"
    }
   ],
   "source": [
    "rv.cdf(5) - rv.cdf(2)"
   ]
  },
  {
   "cell_type": "markdown",
   "id": "18d10a36-49b3-4a1a-bc02-bc9623942ee4",
   "metadata": {},
   "source": [
    "### e)"
   ]
  },
  {
   "cell_type": "markdown",
   "id": "d15c2018-51ea-4986-a138-90cab294c4b7",
   "metadata": {},
   "source": [
    "n . p"
   ]
  },
  {
   "cell_type": "markdown",
   "id": "2b1a1aa9-dfff-47b2-ab8d-4d52d738aaa0",
   "metadata": {},
   "source": [
    "n = 5\n",
    "\n",
    "Standarda uygun olma olasılığı = 0.9"
   ]
  },
  {
   "cell_type": "code",
   "execution_count": 21,
   "id": "becac41b-abdb-417e-be41-41d04e59454f",
   "metadata": {},
   "outputs": [
    {
     "data": {
      "text/plain": [
       "4.5"
      ]
     },
     "execution_count": 21,
     "metadata": {},
     "output_type": "execute_result"
    }
   ],
   "source": [
    "5 * 0.9"
   ]
  },
  {
   "cell_type": "code",
   "execution_count": 51,
   "id": "84d91b06-320f-4958-8769-9c5f0116945d",
   "metadata": {},
   "outputs": [
    {
     "data": {
      "text/plain": [
       "4.5"
      ]
     },
     "execution_count": 51,
     "metadata": {},
     "output_type": "execute_result"
    }
   ],
   "source": [
    "5 - rv.mean()"
   ]
  },
  {
   "cell_type": "markdown",
   "id": "67ab8874-7f01-4fcd-8fe2-7d7d143f3201",
   "metadata": {},
   "source": [
    "### Örnek 3"
   ]
  },
  {
   "cell_type": "markdown",
   "id": "7063a16e-e54a-4460-90ad-775794d2dc67",
   "metadata": {},
   "source": [
    "Belli bir ameliyatın başarılı sonuçlanması olasılığı %80’dir. Ameliyat edilen 10\n",
    "hastadan,\n",
    "\n",
    "a) 6’ sının iyileşmesi olasılığı nedir?\n",
    "\n",
    "b) En az 9’ unun iyileşmesi olasılığı nedir?\n",
    "\n",
    "c) En fazla 7’ sinin iyileşmesi olasılığı nedir?\n",
    "\n",
    "d) Ameliyatı başarılı sonuçlanacak hastaların beklenen sayısını ve varyansını hesaplayınız"
   ]
  },
  {
   "cell_type": "code",
   "execution_count": 32,
   "id": "b5db79e0-4fee-4cc9-892b-ebbe1da3f44b",
   "metadata": {},
   "outputs": [],
   "source": [
    "rv3 = binom(n = 10, p = 0.8)"
   ]
  },
  {
   "cell_type": "markdown",
   "id": "2feb3661-d27a-4989-bd94-b0d620cccb01",
   "metadata": {
    "jp-MarkdownHeadingCollapsed": true,
    "tags": []
   },
   "source": [
    "### a)"
   ]
  },
  {
   "cell_type": "code",
   "execution_count": 39,
   "id": "f771153c-84a3-4626-a50d-288adde056c3",
   "metadata": {},
   "outputs": [
    {
     "data": {
      "text/plain": [
       "0.08808038399999985"
      ]
     },
     "execution_count": 39,
     "metadata": {},
     "output_type": "execute_result"
    }
   ],
   "source": [
    "rv3.pmf(6)"
   ]
  },
  {
   "cell_type": "markdown",
   "id": "f1bf0103-54af-4b04-be20-e9957957a618",
   "metadata": {
    "tags": []
   },
   "source": [
    "### b)"
   ]
  },
  {
   "cell_type": "code",
   "execution_count": 40,
   "id": "e246b9a2-be03-4bf8-acda-0d2a3b97cb4f",
   "metadata": {},
   "outputs": [
    {
     "data": {
      "text/plain": [
       "0.37580963840000015"
      ]
     },
     "execution_count": 40,
     "metadata": {},
     "output_type": "execute_result"
    }
   ],
   "source": [
    "rv3.cdf(10) - rv3.cdf(8)"
   ]
  },
  {
   "cell_type": "markdown",
   "id": "ceb45e81-1917-4f5a-ac67-136606a13517",
   "metadata": {
    "tags": []
   },
   "source": [
    "### c)"
   ]
  },
  {
   "cell_type": "code",
   "execution_count": 43,
   "id": "a21fb3ef-12b8-4c93-95cb-06020bcd8f5b",
   "metadata": {},
   "outputs": [
    {
     "data": {
      "text/plain": [
       "0.32220047359999987"
      ]
     },
     "execution_count": 43,
     "metadata": {},
     "output_type": "execute_result"
    }
   ],
   "source": [
    "rv3.cdf(7)"
   ]
  },
  {
   "cell_type": "markdown",
   "id": "f0eb6b52-dd0b-4a1d-a3b8-7068c8f22dce",
   "metadata": {},
   "source": [
    "### d)"
   ]
  },
  {
   "cell_type": "markdown",
   "id": "41493909-2815-4210-bb32-52ce18d95032",
   "metadata": {},
   "source": [
    "Beklenen değeri"
   ]
  },
  {
   "cell_type": "code",
   "execution_count": 48,
   "id": "c8d891af-34ff-4de4-bc76-fc053cc9fa37",
   "metadata": {},
   "outputs": [
    {
     "data": {
      "text/plain": [
       "8.0"
      ]
     },
     "execution_count": 48,
     "metadata": {},
     "output_type": "execute_result"
    }
   ],
   "source": [
    "rv3.mean()"
   ]
  },
  {
   "cell_type": "markdown",
   "id": "2b1ceb2b-58f6-4bad-8732-9cf624b41621",
   "metadata": {},
   "source": [
    "Varyansı"
   ]
  },
  {
   "cell_type": "code",
   "execution_count": 49,
   "id": "99e45f52-efc3-46b4-b580-b3aaa29372eb",
   "metadata": {},
   "outputs": [
    {
     "data": {
      "text/plain": [
       "1.5999999999999996"
      ]
     },
     "execution_count": 49,
     "metadata": {},
     "output_type": "execute_result"
    }
   ],
   "source": [
    "rv3.var()"
   ]
  }
 ],
 "metadata": {
  "kernelspec": {
   "display_name": "Python 3 (ipykernel)",
   "language": "python",
   "name": "python3"
  },
  "language_info": {
   "codemirror_mode": {
    "name": "ipython",
    "version": 3
   },
   "file_extension": ".py",
   "mimetype": "text/x-python",
   "name": "python",
   "nbconvert_exporter": "python",
   "pygments_lexer": "ipython3",
   "version": "3.10.9"
  }
 },
 "nbformat": 4,
 "nbformat_minor": 5
}
